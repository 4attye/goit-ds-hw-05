{
 "cells": [
  {
   "cell_type": "code",
   "execution_count": 280,
   "id": "738a1269-487a-4ffc-bb03-feb49c8b3849",
   "metadata": {},
   "outputs": [],
   "source": [
    "%matplotlib inline"
   ]
  },
  {
   "cell_type": "code",
   "execution_count": 282,
   "id": "63fcfc09-5cdd-4aa6-a042-cd2e38283d89",
   "metadata": {},
   "outputs": [],
   "source": [
    "import matplotlib.pyplot as plt"
   ]
  },
  {
   "cell_type": "code",
   "execution_count": 304,
   "id": "3f779816-2722-4190-8c7b-74fc60f3bcca",
   "metadata": {},
   "outputs": [],
   "source": [
    "import seaborn as sns"
   ]
  },
  {
   "cell_type": "code",
   "execution_count": 1,
   "id": "20a4e2ca-9c5b-423d-b648-fdd20b3b702f",
   "metadata": {},
   "outputs": [],
   "source": [
    "import pandas as pd"
   ]
  },
  {
   "cell_type": "code",
   "execution_count": 5,
   "id": "3959b368-785c-43ce-9d7f-72aadd65fe66",
   "metadata": {},
   "outputs": [],
   "source": [
    "df = pd.read_csv('bestsellers with categories.csv')"
   ]
  },
  {
   "cell_type": "code",
   "execution_count": 261,
   "id": "f92c66b2-7ec3-4b6a-a829-3f3d86811d21",
   "metadata": {},
   "outputs": [
    {
     "data": {
      "text/html": [
       "<div>\n",
       "<style scoped>\n",
       "    .dataframe tbody tr th:only-of-type {\n",
       "        vertical-align: middle;\n",
       "    }\n",
       "\n",
       "    .dataframe tbody tr th {\n",
       "        vertical-align: top;\n",
       "    }\n",
       "\n",
       "    .dataframe thead th {\n",
       "        text-align: right;\n",
       "    }\n",
       "</style>\n",
       "<table border=\"1\" class=\"dataframe\">\n",
       "  <thead>\n",
       "    <tr style=\"text-align: right;\">\n",
       "      <th></th>\n",
       "      <th>name</th>\n",
       "      <th>author</th>\n",
       "      <th>user_rating</th>\n",
       "      <th>reviews</th>\n",
       "      <th>price</th>\n",
       "      <th>year</th>\n",
       "      <th>genre</th>\n",
       "    </tr>\n",
       "  </thead>\n",
       "  <tbody>\n",
       "    <tr>\n",
       "      <th>0</th>\n",
       "      <td>10-Day Green Smoothie Cleanse</td>\n",
       "      <td>JJ Smith</td>\n",
       "      <td>4.7</td>\n",
       "      <td>17350</td>\n",
       "      <td>8</td>\n",
       "      <td>2016</td>\n",
       "      <td>Non Fiction</td>\n",
       "    </tr>\n",
       "    <tr>\n",
       "      <th>1</th>\n",
       "      <td>11/22/63: A Novel</td>\n",
       "      <td>Stephen King</td>\n",
       "      <td>4.6</td>\n",
       "      <td>2052</td>\n",
       "      <td>22</td>\n",
       "      <td>2011</td>\n",
       "      <td>Fiction</td>\n",
       "    </tr>\n",
       "    <tr>\n",
       "      <th>2</th>\n",
       "      <td>12 Rules for Life: An Antidote to Chaos</td>\n",
       "      <td>Jordan B. Peterson</td>\n",
       "      <td>4.7</td>\n",
       "      <td>18979</td>\n",
       "      <td>15</td>\n",
       "      <td>2018</td>\n",
       "      <td>Non Fiction</td>\n",
       "    </tr>\n",
       "    <tr>\n",
       "      <th>3</th>\n",
       "      <td>1984 (Signet Classics)</td>\n",
       "      <td>George Orwell</td>\n",
       "      <td>4.7</td>\n",
       "      <td>21424</td>\n",
       "      <td>6</td>\n",
       "      <td>2017</td>\n",
       "      <td>Fiction</td>\n",
       "    </tr>\n",
       "    <tr>\n",
       "      <th>4</th>\n",
       "      <td>5,000 Awesome Facts (About Everything!) (Natio...</td>\n",
       "      <td>National Geographic Kids</td>\n",
       "      <td>4.8</td>\n",
       "      <td>7665</td>\n",
       "      <td>12</td>\n",
       "      <td>2019</td>\n",
       "      <td>Non Fiction</td>\n",
       "    </tr>\n",
       "  </tbody>\n",
       "</table>\n",
       "</div>"
      ],
      "text/plain": [
       "                                                name  \\\n",
       "0                      10-Day Green Smoothie Cleanse   \n",
       "1                                  11/22/63: A Novel   \n",
       "2            12 Rules for Life: An Antidote to Chaos   \n",
       "3                             1984 (Signet Classics)   \n",
       "4  5,000 Awesome Facts (About Everything!) (Natio...   \n",
       "\n",
       "                     author  user_rating  reviews  price  year        genre  \n",
       "0                  JJ Smith          4.7    17350      8  2016  Non Fiction  \n",
       "1              Stephen King          4.6     2052     22  2011      Fiction  \n",
       "2        Jordan B. Peterson          4.7    18979     15  2018  Non Fiction  \n",
       "3             George Orwell          4.7    21424      6  2017      Fiction  \n",
       "4  National Geographic Kids          4.8     7665     12  2019  Non Fiction  "
      ]
     },
     "execution_count": 261,
     "metadata": {},
     "output_type": "execute_result"
    }
   ],
   "source": [
    "df.head()"
   ]
  },
  {
   "cell_type": "code",
   "execution_count": 7,
   "id": "a04d8f60-bfc2-4b15-9b3c-a8719cdbcdac",
   "metadata": {},
   "outputs": [
    {
     "data": {
      "text/plain": [
       "(550, 7)"
      ]
     },
     "execution_count": 7,
     "metadata": {},
     "output_type": "execute_result"
    }
   ],
   "source": [
    "df.shape"
   ]
  },
  {
   "cell_type": "code",
   "execution_count": 265,
   "id": "0c45c5bd-a4aa-4bd7-970f-84292ae3dfc8",
   "metadata": {},
   "outputs": [
    {
     "data": {
      "text/plain": [
       "351"
      ]
     },
     "execution_count": 265,
     "metadata": {},
     "output_type": "execute_result"
    }
   ],
   "source": [
    "df['name'].nunique()"
   ]
  },
  {
   "cell_type": "code",
   "execution_count": 15,
   "id": "b2baf7cd-380b-4df8-8b6b-832ecab68063",
   "metadata": {},
   "outputs": [],
   "source": [
    "df.columns = ['name', 'author', 'user_rating', 'reviews', 'price', 'year', 'genre']"
   ]
  },
  {
   "cell_type": "markdown",
   "id": "036267f3-901f-48ee-9238-34bb9740bc9a",
   "metadata": {},
   "source": [
    "### Первинне дослідження даних"
   ]
  },
  {
   "cell_type": "markdown",
   "id": "1f6a427e-500f-4a76-845d-776a8fc50cec",
   "metadata": {},
   "source": [
    "Перевірте, чи у всіх рядків вистачає даних: виведіть кількість пропусків (na) у кожному зі стовпців (використовуйте функції isna та sum)"
   ]
  },
  {
   "cell_type": "code",
   "execution_count": 19,
   "id": "ffce1c87-f622-4ced-988a-4177747e88a9",
   "metadata": {},
   "outputs": [
    {
     "data": {
      "text/plain": [
       "name           0\n",
       "author         0\n",
       "user_rating    0\n",
       "reviews        0\n",
       "price          0\n",
       "year           0\n",
       "genre          0\n",
       "dtype: int64"
      ]
     },
     "execution_count": 19,
     "metadata": {},
     "output_type": "execute_result"
    }
   ],
   "source": [
    "df.isna().sum()"
   ]
  },
  {
   "cell_type": "markdown",
   "id": "d9f96d80-8ee7-4532-9b3d-a4a4edc7abee",
   "metadata": {},
   "source": [
    "Чи є в якихось змінних пропуски? (Так / ні)\n",
    "Ні"
   ]
  },
  {
   "cell_type": "markdown",
   "id": "4591d673-71bd-4f7b-bf0b-d2cdb71da6cf",
   "metadata": {},
   "source": [
    "Перевірте, які є унікальні значення в колонці genre (використовуйте функцію unique)"
   ]
  },
  {
   "cell_type": "code",
   "execution_count": 25,
   "id": "a3d42850-6045-4beb-bb85-00ae3943f1b4",
   "metadata": {},
   "outputs": [
    {
     "data": {
      "text/plain": [
       "array(['Non Fiction', 'Fiction'], dtype=object)"
      ]
     },
     "execution_count": 25,
     "metadata": {},
     "output_type": "execute_result"
    }
   ],
   "source": [
    "df['genre'].unique()"
   ]
  },
  {
   "cell_type": "markdown",
   "id": "d819d4c3-1c74-4a20-b03d-de422df17b84",
   "metadata": {},
   "source": [
    "Які є унікальні жанри?\n",
    "В таблиці всього 2 жанри Non Fiction та Fiction"
   ]
  },
  {
   "cell_type": "markdown",
   "id": "100243df-c073-4712-861b-e8acf587d6d6",
   "metadata": {},
   "source": [
    "Тепер подивіться на розподіл цін: побудуйте діаграму (використовуйте kind='hist')"
   ]
  },
  {
   "cell_type": "code",
   "execution_count": 384,
   "id": "c4f68768-eec3-4680-a9f1-5941150378ac",
   "metadata": {},
   "outputs": [
    {
     "data": {
      "text/plain": [
       "<Axes: >"
      ]
     },
     "execution_count": 384,
     "metadata": {},
     "output_type": "execute_result"
    },
    {
     "data": {
      "image/png": "[encoded data removed]",
      "text/plain": [
       "<Figure size 640x480 with 1 Axes>"
      ]
     },
     "metadata": {},
     "output_type": "display_data"
    }
   ],
   "source": [
    "df['price'].hist()"
   ]
  },
  {
   "cell_type": "markdown",
   "id": "382434fc-9e99-455b-a5d1-c1427606ff93",
   "metadata": {},
   "source": [
    "Визначте, яка ціна у нас максимальна, мінімальна, середня, медіанна (використовуйте функції max, min, mean, median)"
   ]
  },
  {
   "cell_type": "code",
   "execution_count": 204,
   "id": "5fabd878-f1c0-4a66-9e45-e7f0b7409faf",
   "metadata": {},
   "outputs": [
    {
     "data": {
      "text/plain": [
       "105"
      ]
     },
     "execution_count": 204,
     "metadata": {},
     "output_type": "execute_result"
    }
   ],
   "source": [
    "df['price'].max()"
   ]
  },
  {
   "cell_type": "code",
   "execution_count": 206,
   "id": "7402e51f-19f1-4386-900b-9261e3f03c50",
   "metadata": {},
   "outputs": [
    {
     "data": {
      "text/plain": [
       "0"
      ]
     },
     "execution_count": 206,
     "metadata": {},
     "output_type": "execute_result"
    }
   ],
   "source": [
    "df['price'].min()"
   ]
  },
  {
   "cell_type": "code",
   "execution_count": 45,
   "id": "c076e9e8-bcd7-4bb2-82ab-2cf3eaac527d",
   "metadata": {},
   "outputs": [
    {
     "data": {
      "text/plain": [
       "13.1"
      ]
     },
     "execution_count": 45,
     "metadata": {},
     "output_type": "execute_result"
    }
   ],
   "source": [
    "df['price'].mean()"
   ]
  },
  {
   "cell_type": "code",
   "execution_count": 47,
   "id": "92350106-c707-459e-bb30-33b4b2944198",
   "metadata": {},
   "outputs": [
    {
     "data": {
      "text/plain": [
       "11.0"
      ]
     },
     "execution_count": 47,
     "metadata": {},
     "output_type": "execute_result"
    }
   ],
   "source": [
    "df['price'].median()"
   ]
  },
  {
   "cell_type": "markdown",
   "id": "7eaebef9-040b-4000-bd65-efe25d378445",
   "metadata": {},
   "source": [
    "Максимальна ціна? 105"
   ]
  },
  {
   "cell_type": "markdown",
   "id": "9e11305d-d1d9-4a8f-875b-37b6bcb6218e",
   "metadata": {},
   "source": [
    "Мінімальна ціна? 0"
   ]
  },
  {
   "cell_type": "markdown",
   "id": "1d2f9a05-5225-4ebc-bfd4-c996ab3c22a1",
   "metadata": {},
   "source": [
    "Середня ціна? 13.1"
   ]
  },
  {
   "cell_type": "markdown",
   "id": "c129e606-8e90-4889-9d64-d373fa347a38",
   "metadata": {},
   "source": [
    "Медіанна ціна? 11"
   ]
  },
  {
   "cell_type": "markdown",
   "id": "10618c1d-a4c4-4f27-a8ae-a4c4a9d937bf",
   "metadata": {},
   "source": [
    "### Пошук та сортування даних"
   ]
  },
  {
   "cell_type": "code",
   "execution_count": 63,
   "id": "e359df8f-58dc-42e5-880f-6c9ffadc3f18",
   "metadata": {},
   "outputs": [
    {
     "data": {
      "text/plain": [
       "4.9"
      ]
     },
     "execution_count": 63,
     "metadata": {},
     "output_type": "execute_result"
    }
   ],
   "source": [
    "max_rating = df['user_rating'].max()\n",
    "max_rating"
   ]
  },
  {
   "cell_type": "markdown",
   "id": "fca1ea0f-27f2-4226-9181-cf647de95e2c",
   "metadata": {},
   "source": [
    "Який рейтинг у датасеті найвищий? Відповідь: 4.9"
   ]
  },
  {
   "cell_type": "code",
   "execution_count": 74,
   "id": "6945fbbb-6c4e-4534-a500-8c421c2847c9",
   "metadata": {},
   "outputs": [
    {
     "data": {
      "text/plain": [
       "52"
      ]
     },
     "execution_count": 74,
     "metadata": {},
     "output_type": "execute_result"
    }
   ],
   "source": [
    "num_books_max_rating = df[df['user_rating'] == max_rating].shape[0]\n",
    "num_books_max_rating"
   ]
  },
  {
   "cell_type": "markdown",
   "id": "79ab517a-4ce1-4eae-b2a7-23e665b4cbe4",
   "metadata": {},
   "source": [
    "Скільки книг мають такий рейтинг? Відповідь: 52"
   ]
  },
  {
   "cell_type": "code",
   "execution_count": 118,
   "id": "6c5bfdaf-480b-4bc1-b2a7-9d99e2d7570c",
   "metadata": {},
   "outputs": [
    {
     "data": {
      "text/html": [
       "<div>\n",
       "<style scoped>\n",
       "    .dataframe tbody tr th:only-of-type {\n",
       "        vertical-align: middle;\n",
       "    }\n",
       "\n",
       "    .dataframe tbody tr th {\n",
       "        vertical-align: top;\n",
       "    }\n",
       "\n",
       "    .dataframe thead th {\n",
       "        text-align: right;\n",
       "    }\n",
       "</style>\n",
       "<table border=\"1\" class=\"dataframe\">\n",
       "  <thead>\n",
       "    <tr style=\"text-align: right;\">\n",
       "      <th></th>\n",
       "      <th>name</th>\n",
       "      <th>author</th>\n",
       "      <th>user_rating</th>\n",
       "      <th>reviews</th>\n",
       "      <th>price</th>\n",
       "      <th>year</th>\n",
       "      <th>genre</th>\n",
       "    </tr>\n",
       "  </thead>\n",
       "  <tbody>\n",
       "    <tr>\n",
       "      <th>534</th>\n",
       "      <td>Where the Crawdads Sing</td>\n",
       "      <td>Delia Owens</td>\n",
       "      <td>4.8</td>\n",
       "      <td>87841</td>\n",
       "      <td>15</td>\n",
       "      <td>2019</td>\n",
       "      <td>Fiction</td>\n",
       "    </tr>\n",
       "  </tbody>\n",
       "</table>\n",
       "</div>"
      ],
      "text/plain": [
       "                        name       author  user_rating  reviews  price  year  \\\n",
       "534  Where the Crawdads Sing  Delia Owens          4.8    87841     15  2019   \n",
       "\n",
       "       genre  \n",
       "534  Fiction  "
      ]
     },
     "execution_count": 118,
     "metadata": {},
     "output_type": "execute_result"
    }
   ],
   "source": [
    "max_reviews = df['reviews'].max()\n",
    "df.loc[df['reviews'] == max_reviews]"
   ]
  },
  {
   "cell_type": "markdown",
   "id": "8754e9d1-878c-4066-905f-9e793284779b",
   "metadata": {},
   "source": [
    "Яка книга має найбільше відгуків? Відповідь: Where the Crawdads Sing"
   ]
  },
  {
   "cell_type": "code",
   "execution_count": 129,
   "id": "7701ff89-955d-48d1-8ab1-50944345a041",
   "metadata": {},
   "outputs": [
    {
     "data": {
      "text/html": [
       "<div>\n",
       "<style scoped>\n",
       "    .dataframe tbody tr th:only-of-type {\n",
       "        vertical-align: middle;\n",
       "    }\n",
       "\n",
       "    .dataframe tbody tr th {\n",
       "        vertical-align: top;\n",
       "    }\n",
       "\n",
       "    .dataframe thead th {\n",
       "        text-align: right;\n",
       "    }\n",
       "</style>\n",
       "<table border=\"1\" class=\"dataframe\">\n",
       "  <thead>\n",
       "    <tr style=\"text-align: right;\">\n",
       "      <th></th>\n",
       "      <th>name</th>\n",
       "      <th>author</th>\n",
       "      <th>user_rating</th>\n",
       "      <th>reviews</th>\n",
       "      <th>price</th>\n",
       "      <th>year</th>\n",
       "      <th>genre</th>\n",
       "    </tr>\n",
       "  </thead>\n",
       "  <tbody>\n",
       "    <tr>\n",
       "      <th>277</th>\n",
       "      <td>Publication Manual of the American Psychologic...</td>\n",
       "      <td>American Psychological Association</td>\n",
       "      <td>4.5</td>\n",
       "      <td>8580</td>\n",
       "      <td>46</td>\n",
       "      <td>2015</td>\n",
       "      <td>Non Fiction</td>\n",
       "    </tr>\n",
       "  </tbody>\n",
       "</table>\n",
       "</div>"
      ],
      "text/plain": [
       "                                                  name  \\\n",
       "277  Publication Manual of the American Psychologic...   \n",
       "\n",
       "                                 author  user_rating  reviews  price  year  \\\n",
       "277  American Psychological Association          4.5     8580     46  2015   \n",
       "\n",
       "           genre  \n",
       "277  Non Fiction  "
      ]
     },
     "execution_count": 129,
     "metadata": {},
     "output_type": "execute_result"
    }
   ],
   "source": [
    "books_2015 = df[df['year'] == 2015]\n",
    "price_max = books_2015['price'].max()\n",
    "books_2015.loc[books_2015['price'] == price_max]"
   ]
  },
  {
   "cell_type": "markdown",
   "id": "9b8cac74-c7cc-43b8-bbc5-c86d2b5a85ad",
   "metadata": {},
   "source": [
    "З тих книг, що потрапили до Топ-50 у 2015 році, яка книга найдорожча (можна використати проміжний датафрейм)? Відповідь: Publication Manual of the American Psychologic...\t"
   ]
  },
  {
   "cell_type": "code",
   "execution_count": 148,
   "id": "65c77ca2-c813-45af-a71c-9bad48dc5a24",
   "metadata": {},
   "outputs": [
    {
     "data": {
      "text/plain": [
       "50"
      ]
     },
     "execution_count": 148,
     "metadata": {},
     "output_type": "execute_result"
    }
   ],
   "source": [
    "df[df['year'] == 2010].count()['name']"
   ]
  },
  {
   "cell_type": "code",
   "execution_count": 150,
   "id": "1d120bfa-5a38-43fc-a744-236b8ef9d140",
   "metadata": {},
   "outputs": [
    {
     "data": {
      "text/plain": [
       "20"
      ]
     },
     "execution_count": 150,
     "metadata": {},
     "output_type": "execute_result"
    }
   ],
   "source": [
    "books_fiction_2010 = df[(df['year'] == 2010) & (df['genre'] == 'Fiction')]\n",
    "books_fiction_2010.shape[0]"
   ]
  },
  {
   "cell_type": "markdown",
   "id": "bfc55cb8-c5b5-49c4-a869-aee69816ff2d",
   "metadata": {},
   "source": [
    "Скільки книг жанру Fiction потрапили до Топ-50 у 2010 році (використовуйте &)? Відповідь: 20"
   ]
  },
  {
   "cell_type": "code",
   "execution_count": 189,
   "id": "b40eb623-c74f-4dec-907a-a14bd79bb3b0",
   "metadata": {},
   "outputs": [
    {
     "data": {
      "text/plain": [
       "1"
      ]
     },
     "execution_count": 189,
     "metadata": {},
     "output_type": "execute_result"
    }
   ],
   "source": [
    "books_2010_2011 = df[(df['year'] == 2010 | 2011) & (df['user_rating'] == 4.9)]\n",
    "books_2010_2011.shape[0]"
   ]
  },
  {
   "cell_type": "markdown",
   "id": "0c810152-44b2-42ab-9999-4a67530bafa4",
   "metadata": {},
   "source": [
    "Скільки книг з рейтингом 4.9 потрапило до рейтингу у 2010 та 2011 роках (використовуйте | або функцію isin)? Відповідь: 1"
   ]
  },
  {
   "cell_type": "code",
   "execution_count": 196,
   "id": "a41164f9-6eda-4cc2-adb6-253b0d4189bd",
   "metadata": {},
   "outputs": [
    {
     "data": {
      "text/plain": [
       "'Old School (Diary of a Wimpy Kid #10)'"
      ]
     },
     "execution_count": 196,
     "metadata": {},
     "output_type": "execute_result"
    }
   ],
   "source": [
    "books_2015_under_8 = books_2015[books_2015['price'] < 8]\n",
    "sorted_books = books_2015_under_8.sort_values(by='price')\n",
    "sorted_books.iloc[-1]['name']"
   ]
  },
  {
   "cell_type": "markdown",
   "id": "5bcceca7-4548-4124-873d-7f0759e04ea3",
   "metadata": {},
   "source": [
    "Яка книга остання у відсортованому списку? Відповідь:\n",
    "'Old School (Diary of a Wimpy Kid #10)'\n"
   ]
  },
  {
   "cell_type": "markdown",
   "id": "713f8d04-d8c7-458e-a7f6-bf30dd92e114",
   "metadata": {},
   "source": [
    "### Агрегування даних та з'єднання таблиць"
   ]
  },
  {
   "cell_type": "markdown",
   "id": "e65df12b-0937-4b8a-a360-fb15426eefe8",
   "metadata": {},
   "source": [
    "Для початку давайте подивимося на максимальну та мінімальну ціни для кожного з жанрів (використовуйте функції groupby та agg, для підрахунку мінімальних та максимальних значень використовуйте max та min). Не беріть усі стовпці, виберіть тільки потрібні вам"
   ]
  },
  {
   "cell_type": "code",
   "execution_count": 214,
   "id": "64d6d7c6-32e7-4cd3-b5d6-01b58a7359a2",
   "metadata": {},
   "outputs": [
    {
     "data": {
      "text/html": [
       "<div>\n",
       "<style scoped>\n",
       "    .dataframe tbody tr th:only-of-type {\n",
       "        vertical-align: middle;\n",
       "    }\n",
       "\n",
       "    .dataframe tbody tr th {\n",
       "        vertical-align: top;\n",
       "    }\n",
       "\n",
       "    .dataframe thead th {\n",
       "        text-align: right;\n",
       "    }\n",
       "</style>\n",
       "<table border=\"1\" class=\"dataframe\">\n",
       "  <thead>\n",
       "    <tr style=\"text-align: right;\">\n",
       "      <th></th>\n",
       "      <th>min</th>\n",
       "      <th>max</th>\n",
       "    </tr>\n",
       "    <tr>\n",
       "      <th>genre</th>\n",
       "      <th></th>\n",
       "      <th></th>\n",
       "    </tr>\n",
       "  </thead>\n",
       "  <tbody>\n",
       "    <tr>\n",
       "      <th>Fiction</th>\n",
       "      <td>0</td>\n",
       "      <td>82</td>\n",
       "    </tr>\n",
       "    <tr>\n",
       "      <th>Non Fiction</th>\n",
       "      <td>0</td>\n",
       "      <td>105</td>\n",
       "    </tr>\n",
       "  </tbody>\n",
       "</table>\n",
       "</div>"
      ],
      "text/plain": [
       "             min  max\n",
       "genre                \n",
       "Fiction        0   82\n",
       "Non Fiction    0  105"
      ]
     },
     "execution_count": 214,
     "metadata": {},
     "output_type": "execute_result"
    }
   ],
   "source": [
    "df.groupby('genre')['price'].agg(['min', 'max'])\n"
   ]
  },
  {
   "cell_type": "markdown",
   "id": "455cb479-e55e-4f33-ba48-bef5a6a0c994",
   "metadata": {},
   "source": [
    "Максимальна ціна для жанру Fiction: Відповідь 82"
   ]
  },
  {
   "cell_type": "markdown",
   "id": "6c24b673-dfd8-4c76-a214-2250cd5bd2b3",
   "metadata": {},
   "source": [
    "Мінімальна ціна для жанру Fiction: Відповідь 0"
   ]
  },
  {
   "cell_type": "markdown",
   "id": "82dc501b-989b-4df1-bead-deb77ae65ea1",
   "metadata": {},
   "source": [
    "Максимальна ціна для жанру Non Fiction: Відповідь 105"
   ]
  },
  {
   "cell_type": "markdown",
   "id": "c8996923-55f9-44d9-b24f-ec4d83ded346",
   "metadata": {},
   "source": [
    "Мінімальна ціна для жанру Non Fiction: Відповідь 0"
   ]
  },
  {
   "cell_type": "markdown",
   "id": "29aa2f1c-ca79-4a29-9228-fd9b736aac13",
   "metadata": {},
   "source": [
    "Тепер створіть новий датафрейм, який вміщатиме кількість книг для кожного з авторів (використовуйте функції groupby та agg, для підрахунку кількості використовуйте count). Не беріть усі стовпці, виберете тільки потрібні"
   ]
  },
  {
   "cell_type": "code",
   "execution_count": 221,
   "id": "96382e79-fcab-420c-8e48-0498e5893725",
   "metadata": {},
   "outputs": [
    {
     "data": {
      "text/html": [
       "<div>\n",
       "<style scoped>\n",
       "    .dataframe tbody tr th:only-of-type {\n",
       "        vertical-align: middle;\n",
       "    }\n",
       "\n",
       "    .dataframe tbody tr th {\n",
       "        vertical-align: top;\n",
       "    }\n",
       "\n",
       "    .dataframe thead th {\n",
       "        text-align: right;\n",
       "    }\n",
       "</style>\n",
       "<table border=\"1\" class=\"dataframe\">\n",
       "  <thead>\n",
       "    <tr style=\"text-align: right;\">\n",
       "      <th></th>\n",
       "      <th>author</th>\n",
       "      <th>book_count</th>\n",
       "    </tr>\n",
       "  </thead>\n",
       "  <tbody>\n",
       "    <tr>\n",
       "      <th>0</th>\n",
       "      <td>Abraham Verghese</td>\n",
       "      <td>2</td>\n",
       "    </tr>\n",
       "    <tr>\n",
       "      <th>1</th>\n",
       "      <td>Adam Gasiewski</td>\n",
       "      <td>1</td>\n",
       "    </tr>\n",
       "    <tr>\n",
       "      <th>2</th>\n",
       "      <td>Adam Mansbach</td>\n",
       "      <td>1</td>\n",
       "    </tr>\n",
       "    <tr>\n",
       "      <th>3</th>\n",
       "      <td>Adir Levy</td>\n",
       "      <td>1</td>\n",
       "    </tr>\n",
       "    <tr>\n",
       "      <th>4</th>\n",
       "      <td>Admiral William H. McRaven</td>\n",
       "      <td>1</td>\n",
       "    </tr>\n",
       "    <tr>\n",
       "      <th>...</th>\n",
       "      <td>...</td>\n",
       "      <td>...</td>\n",
       "    </tr>\n",
       "    <tr>\n",
       "      <th>243</th>\n",
       "      <td>Walter Isaacson</td>\n",
       "      <td>3</td>\n",
       "    </tr>\n",
       "    <tr>\n",
       "      <th>244</th>\n",
       "      <td>William Davis</td>\n",
       "      <td>2</td>\n",
       "    </tr>\n",
       "    <tr>\n",
       "      <th>245</th>\n",
       "      <td>William P. Young</td>\n",
       "      <td>2</td>\n",
       "    </tr>\n",
       "    <tr>\n",
       "      <th>246</th>\n",
       "      <td>Wizards RPG Team</td>\n",
       "      <td>3</td>\n",
       "    </tr>\n",
       "    <tr>\n",
       "      <th>247</th>\n",
       "      <td>Zhi Gang Sha</td>\n",
       "      <td>2</td>\n",
       "    </tr>\n",
       "  </tbody>\n",
       "</table>\n",
       "<p>248 rows × 2 columns</p>\n",
       "</div>"
      ],
      "text/plain": [
       "                         author  book_count\n",
       "0              Abraham Verghese           2\n",
       "1                Adam Gasiewski           1\n",
       "2                 Adam Mansbach           1\n",
       "3                     Adir Levy           1\n",
       "4    Admiral William H. McRaven           1\n",
       "..                          ...         ...\n",
       "243             Walter Isaacson           3\n",
       "244               William Davis           2\n",
       "245            William P. Young           2\n",
       "246            Wizards RPG Team           3\n",
       "247                Zhi Gang Sha           2\n",
       "\n",
       "[248 rows x 2 columns]"
      ]
     },
     "execution_count": 221,
     "metadata": {},
     "output_type": "execute_result"
    }
   ],
   "source": [
    "author_book_count = df.groupby('author').size().reset_index(name='book_count')\n",
    "author_book_count"
   ]
  },
  {
   "cell_type": "code",
   "execution_count": 223,
   "id": "3ac59ba3-9be1-4bd4-afb7-47ee86cd090c",
   "metadata": {},
   "outputs": [
    {
     "data": {
      "text/plain": [
       "(248, 2)"
      ]
     },
     "execution_count": 223,
     "metadata": {},
     "output_type": "execute_result"
    }
   ],
   "source": [
    "author_book_count.shape"
   ]
  },
  {
   "cell_type": "code",
   "execution_count": 225,
   "id": "13fac888-a22b-465e-b488-f47e88a3747d",
   "metadata": {},
   "outputs": [
    {
     "data": {
      "text/plain": [
       "author        Jeff Kinney\n",
       "book_count             12\n",
       "Name: 120, dtype: object"
      ]
     },
     "execution_count": 225,
     "metadata": {},
     "output_type": "execute_result"
    }
   ],
   "source": [
    "author_book_count.loc[author_book_count['book_count'].idxmax()]"
   ]
  },
  {
   "cell_type": "markdown",
   "id": "0d844454-bc59-4874-b64a-3979277b6ea5",
   "metadata": {},
   "source": [
    "Якої розмірності вийшла таблиця? Відповідь: (248, 2)"
   ]
  },
  {
   "cell_type": "markdown",
   "id": "04fa3d02-b705-4f12-831e-ad8d5ba9c863",
   "metadata": {},
   "source": [
    "Який автор має найбільше книг? Відповідь: Jeff Kinney"
   ]
  },
  {
   "cell_type": "markdown",
   "id": "349d772a-e8d4-4f13-bd21-b38d99cbffff",
   "metadata": {},
   "source": [
    "Скільки книг цього автора? Відповідь: 12"
   ]
  },
  {
   "cell_type": "markdown",
   "id": "5179ed53-6b68-43aa-ba86-4b7e106dc7be",
   "metadata": {},
   "source": [
    "Тепер створіть другий датафрейм, який буде вміщати середній рейтинг для кожного автора (використовуйте функції groupby та agg, для підрахунку середнього значення використовуйте mean). Не беріть усі стовпці, виберете тільки потрібні"
   ]
  },
  {
   "cell_type": "code",
   "execution_count": 253,
   "id": "61c51601-6274-487f-9817-645b926c5372",
   "metadata": {},
   "outputs": [
    {
     "data": {
      "text/html": [
       "<div>\n",
       "<style scoped>\n",
       "    .dataframe tbody tr th:only-of-type {\n",
       "        vertical-align: middle;\n",
       "    }\n",
       "\n",
       "    .dataframe tbody tr th {\n",
       "        vertical-align: top;\n",
       "    }\n",
       "\n",
       "    .dataframe thead th {\n",
       "        text-align: right;\n",
       "    }\n",
       "</style>\n",
       "<table border=\"1\" class=\"dataframe\">\n",
       "  <thead>\n",
       "    <tr style=\"text-align: right;\">\n",
       "      <th></th>\n",
       "      <th>author</th>\n",
       "      <th>avg_rating</th>\n",
       "    </tr>\n",
       "  </thead>\n",
       "  <tbody>\n",
       "    <tr>\n",
       "      <th>0</th>\n",
       "      <td>Abraham Verghese</td>\n",
       "      <td>4.600000</td>\n",
       "    </tr>\n",
       "    <tr>\n",
       "      <th>1</th>\n",
       "      <td>Adam Gasiewski</td>\n",
       "      <td>4.400000</td>\n",
       "    </tr>\n",
       "    <tr>\n",
       "      <th>2</th>\n",
       "      <td>Adam Mansbach</td>\n",
       "      <td>4.800000</td>\n",
       "    </tr>\n",
       "    <tr>\n",
       "      <th>3</th>\n",
       "      <td>Adir Levy</td>\n",
       "      <td>4.800000</td>\n",
       "    </tr>\n",
       "    <tr>\n",
       "      <th>4</th>\n",
       "      <td>Admiral William H. McRaven</td>\n",
       "      <td>4.700000</td>\n",
       "    </tr>\n",
       "    <tr>\n",
       "      <th>...</th>\n",
       "      <td>...</td>\n",
       "      <td>...</td>\n",
       "    </tr>\n",
       "    <tr>\n",
       "      <th>243</th>\n",
       "      <td>Walter Isaacson</td>\n",
       "      <td>4.566667</td>\n",
       "    </tr>\n",
       "    <tr>\n",
       "      <th>244</th>\n",
       "      <td>William Davis</td>\n",
       "      <td>4.400000</td>\n",
       "    </tr>\n",
       "    <tr>\n",
       "      <th>245</th>\n",
       "      <td>William P. Young</td>\n",
       "      <td>4.600000</td>\n",
       "    </tr>\n",
       "    <tr>\n",
       "      <th>246</th>\n",
       "      <td>Wizards RPG Team</td>\n",
       "      <td>4.800000</td>\n",
       "    </tr>\n",
       "    <tr>\n",
       "      <th>247</th>\n",
       "      <td>Zhi Gang Sha</td>\n",
       "      <td>4.600000</td>\n",
       "    </tr>\n",
       "  </tbody>\n",
       "</table>\n",
       "<p>248 rows × 2 columns</p>\n",
       "</div>"
      ],
      "text/plain": [
       "                         author  avg_rating\n",
       "0              Abraham Verghese    4.600000\n",
       "1                Adam Gasiewski    4.400000\n",
       "2                 Adam Mansbach    4.800000\n",
       "3                     Adir Levy    4.800000\n",
       "4    Admiral William H. McRaven    4.700000\n",
       "..                          ...         ...\n",
       "243             Walter Isaacson    4.566667\n",
       "244               William Davis    4.400000\n",
       "245            William P. Young    4.600000\n",
       "246            Wizards RPG Team    4.800000\n",
       "247                Zhi Gang Sha    4.600000\n",
       "\n",
       "[248 rows x 2 columns]"
      ]
     },
     "execution_count": 253,
     "metadata": {},
     "output_type": "execute_result"
    }
   ],
   "source": [
    "author_avg_rating = df.groupby('author')['user_rating'].mean().reset_index(name='avg_rating')\n",
    "author_avg_rating"
   ]
  },
  {
   "cell_type": "code",
   "execution_count": 267,
   "id": "df682831-ecd9-4225-8c5f-d21c84792b6b",
   "metadata": {},
   "outputs": [
    {
     "data": {
      "text/plain": [
       "author        Donna Tartt\n",
       "avg_rating            3.9\n",
       "Name: 71, dtype: object"
      ]
     },
     "execution_count": 267,
     "metadata": {},
     "output_type": "execute_result"
    }
   ],
   "source": [
    "author_avg_rating.loc[author_avg_rating['avg_rating'].idxmin()]"
   ]
  },
  {
   "cell_type": "markdown",
   "id": "6143166f-df1d-4a34-812e-44dc758b7577",
   "metadata": {},
   "source": [
    " У якого автора середній рейтинг мінімальний? Відповідь: Donna Tartt"
   ]
  },
  {
   "cell_type": "markdown",
   "id": "5af34038-8c45-4f94-8cae-c138e429eb4a",
   "metadata": {},
   "source": [
    "Який у цього автора середній рейтинг? Відповідь: 3.9"
   ]
  },
  {
   "cell_type": "markdown",
   "id": "550bb16b-bcf0-41b3-857e-1ab4b518ba49",
   "metadata": {},
   "source": [
    "З'єднайте останні два датафрейми так, щоб для кожного автора було видно кількість книг та середній рейтинг (Використовуйте функцію concat з параметром axis=1). Збережіть результат у змінну"
   ]
  },
  {
   "cell_type": "code",
   "execution_count": 272,
   "id": "de163092-c08f-4ed9-ae60-e95a1ec857fb",
   "metadata": {},
   "outputs": [],
   "source": [
    "combined_df = pd.concat([author_book_count.set_index('author'), author_avg_rating.set_index('author')], axis=1)"
   ]
  },
  {
   "cell_type": "markdown",
   "id": "b241e005-0e4c-46be-8639-0a7be47c87df",
   "metadata": {},
   "source": [
    "Відсортуйте датафрейм за зростаючою кількістю книг та зростаючим рейтингом (використовуйте функцію sort_values)"
   ]
  },
  {
   "cell_type": "code",
   "execution_count": 275,
   "id": "71d5eb27-0832-405b-8395-f2ed0eec9180",
   "metadata": {},
   "outputs": [
    {
     "data": {
      "text/html": [
       "<div>\n",
       "<style scoped>\n",
       "    .dataframe tbody tr th:only-of-type {\n",
       "        vertical-align: middle;\n",
       "    }\n",
       "\n",
       "    .dataframe tbody tr th {\n",
       "        vertical-align: top;\n",
       "    }\n",
       "\n",
       "    .dataframe thead th {\n",
       "        text-align: right;\n",
       "    }\n",
       "</style>\n",
       "<table border=\"1\" class=\"dataframe\">\n",
       "  <thead>\n",
       "    <tr style=\"text-align: right;\">\n",
       "      <th></th>\n",
       "      <th>book_count</th>\n",
       "      <th>avg_rating</th>\n",
       "    </tr>\n",
       "    <tr>\n",
       "      <th>author</th>\n",
       "      <th></th>\n",
       "      <th></th>\n",
       "    </tr>\n",
       "  </thead>\n",
       "  <tbody>\n",
       "    <tr>\n",
       "      <th>Muriel Barbery</th>\n",
       "      <td>1</td>\n",
       "      <td>4.000000</td>\n",
       "    </tr>\n",
       "    <tr>\n",
       "      <th>Chris Cleave</th>\n",
       "      <td>1</td>\n",
       "      <td>4.100000</td>\n",
       "    </tr>\n",
       "    <tr>\n",
       "      <th>Ian K. Smith M.D.</th>\n",
       "      <td>1</td>\n",
       "      <td>4.100000</td>\n",
       "    </tr>\n",
       "    <tr>\n",
       "      <th>Pierre Dukan</th>\n",
       "      <td>1</td>\n",
       "      <td>4.100000</td>\n",
       "    </tr>\n",
       "    <tr>\n",
       "      <th>Elizabeth Strout</th>\n",
       "      <td>1</td>\n",
       "      <td>4.200000</td>\n",
       "    </tr>\n",
       "    <tr>\n",
       "      <th>...</th>\n",
       "      <td>...</td>\n",
       "      <td>...</td>\n",
       "    </tr>\n",
       "    <tr>\n",
       "      <th>American Psychological Association</th>\n",
       "      <td>10</td>\n",
       "      <td>4.500000</td>\n",
       "    </tr>\n",
       "    <tr>\n",
       "      <th>Suzanne Collins</th>\n",
       "      <td>11</td>\n",
       "      <td>4.663636</td>\n",
       "    </tr>\n",
       "    <tr>\n",
       "      <th>Gary Chapman</th>\n",
       "      <td>11</td>\n",
       "      <td>4.736364</td>\n",
       "    </tr>\n",
       "    <tr>\n",
       "      <th>Rick Riordan</th>\n",
       "      <td>11</td>\n",
       "      <td>4.772727</td>\n",
       "    </tr>\n",
       "    <tr>\n",
       "      <th>Jeff Kinney</th>\n",
       "      <td>12</td>\n",
       "      <td>4.800000</td>\n",
       "    </tr>\n",
       "  </tbody>\n",
       "</table>\n",
       "<p>248 rows × 2 columns</p>\n",
       "</div>"
      ],
      "text/plain": [
       "                                    book_count  avg_rating\n",
       "author                                                    \n",
       "Muriel Barbery                               1    4.000000\n",
       "Chris Cleave                                 1    4.100000\n",
       "Ian K. Smith M.D.                            1    4.100000\n",
       "Pierre Dukan                                 1    4.100000\n",
       "Elizabeth Strout                             1    4.200000\n",
       "...                                        ...         ...\n",
       "American Psychological Association          10    4.500000\n",
       "Suzanne Collins                             11    4.663636\n",
       "Gary Chapman                                11    4.736364\n",
       "Rick Riordan                                11    4.772727\n",
       "Jeff Kinney                                 12    4.800000\n",
       "\n",
       "[248 rows x 2 columns]"
      ]
     },
     "execution_count": 275,
     "metadata": {},
     "output_type": "execute_result"
    }
   ],
   "source": [
    "combined_df.sort_values(by=['book_count', 'avg_rating'])"
   ]
  },
  {
   "cell_type": "markdown",
   "id": "2677588d-4e81-45bc-8a85-241740b8030b",
   "metadata": {},
   "source": [
    " Який автор перший у списку?: Muriel Barbery\t"
   ]
  },
  {
   "cell_type": "code",
   "execution_count": 364,
   "id": "92530286-19cf-4e0a-a5d1-7a302ea58f9e",
   "metadata": {},
   "outputs": [
    {
     "data": {
      "image/png": "[encoded data removed]",
      "text/plain": [
       "<Figure size 800x600 with 1 Axes>"
      ]
     },
     "metadata": {},
     "output_type": "display_data"
    }
   ],
   "source": [
    "plt.figure(figsize=(8, 6))\n",
    "sns.histplot(df['price'])\n",
    "plt.title('Розподіл цін книг', fontsize=16)\n",
    "plt.xlabel('Ціна', fontsize=12)\n",
    "plt.ylabel('Кількість', fontsize=12)\n",
    "plt.grid(True)\n",
    "plt.show()"
   ]
  },
  {
   "cell_type": "code",
   "execution_count": 346,
   "id": "7b0f9fbd-bcd0-4c6a-8175-09f1ba49bc45",
   "metadata": {},
   "outputs": [
    {
     "data": {
      "image/png": "[encoded data removed]",
      "text/plain": [
       "<Figure size 600x800 with 1 Axes>"
      ]
     },
     "metadata": {},
     "output_type": "display_data"
    }
   ],
   "source": [
    "plt.figure(figsize=(6, 8))\n",
    "sns.barplot(x=df['genre'].values, y=df['genre'].index)\n",
    "plt.title('Кількість книг за жанрами', fontsize=16)\n",
    "plt.xlabel('Жанр', fontsize=12)\n",
    "plt.ylabel('Кількість', fontsize=12)\n",
    "plt.show()"
   ]
  },
  {
   "cell_type": "code",
   "execution_count": 362,
   "id": "cce06933-eb16-4a46-8293-589de1d112bb",
   "metadata": {},
   "outputs": [
    {
     "data": {
      "image/png": "[encoded data removed]",
      "text/plain": [
       "<Figure size 800x600 with 1 Axes>"
      ]
     },
     "metadata": {},
     "output_type": "display_data"
    }
   ],
   "source": [
    "plt.figure(figsize=(8, 6))\n",
    "sns.lineplot(data=df, x='year', y='user_rating', errorbar=None)\n",
    "plt.title('Залежність рейтингу від року', fontsize=16)\n",
    "plt.xlabel('Рік', fontsize=12)\n",
    "plt.ylabel('Рейтинг', fontsize=12)\n",
    "plt.grid(True)\n",
    "plt.show()"
   ]
  },
  {
   "cell_type": "code",
   "execution_count": null,
   "id": "2e3b07e2-d821-477f-a750-261cef76dbbb",
   "metadata": {},
   "outputs": [],
   "source": []
  }
 ],
 "metadata": {
  "kernelspec": {
   "display_name": "Python 3 (ipykernel)",
   "language": "python",
   "name": "python3"
  },
  "language_info": {
   "codemirror_mode": {
    "name": "ipython",
    "version": 3
   },
   "file_extension": ".py",
   "mimetype": "text/x-python",
   "name": "python",
   "nbconvert_exporter": "python",
   "pygments_lexer": "ipython3",
   "version": "3.12.4"
  }
 },
 "nbformat": 4,
 "nbformat_minor": 5
}
